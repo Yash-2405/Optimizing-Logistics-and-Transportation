{
  "cells": [
    {
      "cell_type": "code",
      "source": [
        "import pandas as pd\n",
        "\n",
        "# Load dataset\n",
        "df = pd.read_csv('/content/generated_inventory_dataset.csv')\n",
        "\n",
        "# Display the first few rows of the dataset\n",
        "print(df.head())\n"
      ],
      "metadata": {
        "colab": {
          "base_uri": "https://localhost:8080/"
        },
        "id": "lBpWCJDoXB3u",
        "outputId": "b6701ab9-7811-4f5a-d011-d8144c332406"
      },
      "execution_count": 13,
      "outputs": [
        {
          "output_type": "stream",
          "name": "stdout",
          "text": [
            "  RegionName                  CountryName          State           City  \\\n",
            "0   Missouri                      Bahamas    Mississippi  Martinezshire   \n",
            "1  Wisconsin                        Kenya   South Dakota   Barajasburgh   \n",
            "2   Nebraska  French Southern Territories       Delaware    Johnchester   \n",
            "3    Arizona                     Cambodia        Florida    Anthonytown   \n",
            "4   Kentucky                        Samoa  Massachusetts   Charlesmouth   \n",
            "\n",
            "   PostalCode                                   WarehouseAddress  \\\n",
            "0       50167  6818 Robinson Greens Apt. 594\\nJesusport, MA 6...   \n",
            "1        8169  6711 Gonzalez Run Apt. 345\\nLucaschester, IL 7...   \n",
            "2       82563  39749 Marisa Brooks Apt. 138\\nSantosmouth, NY ...   \n",
            "3       47333  770 Daniels Plaza Suite 597\\nLake Amber, SC 06983   \n",
            "4       28711           93041 Rogers Mall\\nDouglasfurt, NH 17390   \n",
            "\n",
            "                  WarehouseName      EmployeeName               EmployeeEmail  \\\n",
            "0                     Davis Inc      Steven Perez    youngjessica@example.org   \n",
            "1   Holland, Williams and Jones         Mark Hall    charlespatel@example.com   \n",
            "2  Johnson, Hensley and Ramirez     Andrew Barnes      patricia86@example.net   \n",
            "3   Kirby, Watkins and Villegas     Angela Flores    stevensjames@example.net   \n",
            "4              Goodwin and Sons  Catherine Holmes  rogerhernandez@example.com   \n",
            "\n",
            "         EmployeePhone  ... TRANSPORTATION_DISTANCE_IN_KM vehicleType  \\\n",
            "0   (522)833-5588x7339  ...                       1586.94        Bike   \n",
            "1    768.518.5860x0580  ...                       1811.10       Truck   \n",
            "2         395.291.7578  ...                       1758.78       Truck   \n",
            "3         732-414-9837  ...                         70.27         Van   \n",
            "4  +1-574-277-1739x643  ...                        932.55         Van   \n",
            "\n",
            "  Minimum_kms_to_be_covered_in_a_day      Driver_Name       Driver_MobileNo  \\\n",
            "0                                461    Samuel Rivera   (747)615-6850x77814   \n",
            "1                                110   Brandon Brooks  001-299-764-3131x911   \n",
            "2                                401  Michael Jackson   (298)567-5271x55456   \n",
            "3                                372   Cameron Thomas     253-321-6672x3437   \n",
            "4                                345   Nicholas Berry      001-608-266-4038   \n",
            "\n",
            "                             customerID  customerNameCode  \\\n",
            "0  1b237f4b-b3ba-494a-a851-48c81d7d3bc8         Cust_jyeZ   \n",
            "1  7aadd388-469d-4691-8db6-ab5210fb982b         Cust_iKMg   \n",
            "2  eade03f6-5b86-492a-b744-a855f3136d65         Cust_LQmG   \n",
            "3  516cf16a-484b-4c46-ae62-6e694aea88ed         Cust_AYGS   \n",
            "4  181de18d-1464-4187-b714-0009bdc59ef5         Cust_gcRj   \n",
            "\n",
            "                             supplierID supplierNameCode Material Shipped  \n",
            "0  e716f70f-db8b-4162-b62b-8a086701735b        Supp_XvXN          century  \n",
            "1  711e2fe5-3fa0-45d5-808f-83a04bddb1b7        Supp_FQrM             fact  \n",
            "2  b0ff5866-be94-4fdb-acff-2912329c8bd6        Supp_thfw         audience  \n",
            "3  3c61eb39-ffe1-4ade-a66e-20c1ba11a49e        Supp_cHgV            floor  \n",
            "4  deb5d079-6fe4-4c7d-a6b5-892eddcafa06        Supp_huBI         shoulder  \n",
            "\n",
            "[5 rows x 60 columns]\n"
          ]
        }
      ]
    },
    {
      "cell_type": "code",
      "source": [
        "import heapq\n",
        "\n",
        "class Graph:\n",
        "    def __init__(self):\n",
        "        self.nodes = set()\n",
        "        self.edges = {}\n",
        "        self.distances = {}\n",
        "\n",
        "    def add_node(self, value):\n",
        "        self.nodes.add(value)\n",
        "        self.edges[value] = []\n",
        "\n",
        "    def add_edge(self, from_node, to_node, distance):\n",
        "        self.edges[from_node].append(to_node)\n",
        "        self.distances[(from_node, to_node)] = distance\n",
        "\n",
        "def dijkstra(graph, initial):\n",
        "    visited = {initial: 0}\n",
        "    path = {}\n",
        "\n",
        "    nodes = set(graph.nodes)\n",
        "\n",
        "    while nodes:\n",
        "        min_node = None\n",
        "        for node in nodes:\n",
        "            if node in visited:\n",
        "                if min_node is None:\n",
        "                    min_node = node\n",
        "                elif visited[node] < visited[min_node]:\n",
        "                    min_node = node\n",
        "\n",
        "        if min_node is None:\n",
        "            break\n",
        "\n",
        "        nodes.remove(min_node)\n",
        "        current_weight = visited[min_node]\n",
        "\n",
        "        for edge in graph.edges[min_node]:\n",
        "            weight = current_weight + graph.distances[(min_node, edge)]\n",
        "            if edge not in visited or weight < visited[edge]:\n",
        "                visited[edge] = weight\n",
        "                path[edge] = min_node\n",
        "\n",
        "    return visited, path\n",
        "\n",
        "# Create graph from dataset\n",
        "graph = Graph()\n",
        "for node in pd.concat([df['Origin_Location'], df['Destination_Location']]).unique():\n",
        "    graph.add_node(node)\n",
        "\n",
        "# Assuming df has columns 'Origin_Location', 'Destination_Location', and 'TRANSPORTATION_DISTANCE_IN_KM'\n",
        "for _, row in df.iterrows():\n",
        "    graph.add_edge(row['Origin_Location'], row['Destination_Location'], row['TRANSPORTATION_DISTANCE_IN_KM'])\n",
        "\n",
        "start_location = 'North Lisaton'  # Replace with actual starting location\n",
        "distances, paths = dijkstra(graph, start_location)\n",
        "print(distances)\n"
      ],
      "metadata": {
        "colab": {
          "base_uri": "https://localhost:8080/"
        },
        "id": "oDTGH-WPe5oo",
        "outputId": "087c6542-947e-4758-9042-5c2350c1cf4a"
      },
      "execution_count": 30,
      "outputs": [
        {
          "output_type": "stream",
          "name": "stdout",
          "text": [
            "{'North Lisaton': 0, 'Derrickton': 1586.94}\n"
          ]
        }
      ]
    },
    {
      "cell_type": "code",
      "source": [
        "import random\n",
        "import pandas as pd\n",
        "\n",
        "# Load dataset\n",
        "df = pd.read_csv('/content/generated_inventory_dataset.csv')\n",
        "\n",
        "class GeneticAlgorithm:\n",
        "    def __init__(self, population_size, mutation_rate, generations):\n",
        "        self.population_size = population_size\n",
        "        self.mutation_rate = mutation_rate\n",
        "        self.generations = generations\n",
        "\n",
        "    def initialize_population(self):\n",
        "        population = []\n",
        "        for _ in range(self.population_size):\n",
        "            individual = self.create_individual()\n",
        "            population.append(individual)\n",
        "        return population\n",
        "\n",
        "    def create_individual(self):\n",
        "        # Create a random individual (solution)\n",
        "        # Example: A list of route indices\n",
        "        individual = df.sample(frac=1).index.tolist()\n",
        "        return individual\n",
        "\n",
        "    def fitness(self, individual):\n",
        "        # Fitness function to evaluate the individual\n",
        "        # Example: Total distance of the route\n",
        "        total_distance = sum(df.loc[individual, 'TRANSPORTATION_DISTANCE_IN_KM'])\n",
        "        return 1 / total_distance\n",
        "\n",
        "    def selection(self, population):\n",
        "        # Select individuals based on fitness (roulette wheel selection)\n",
        "        fitnesses = [self.fitness(ind) for ind in population]\n",
        "        total_fitness = sum(fitnesses)\n",
        "        probs = [fit / total_fitness for fit in fitnesses]\n",
        "        selected = random.choices(population, weights=probs, k=2)\n",
        "        return selected\n",
        "\n",
        "    def crossover(self, parent1, parent2):\n",
        "        # Single point crossover\n",
        "        point = random.randint(1, len(parent1) - 1)\n",
        "        child1 = parent1[:point] + parent2[point:]\n",
        "        child2 = parent2[:point] + parent1[point:]\n",
        "        return child1, child2\n",
        "\n",
        "    def mutate(self, individual):\n",
        "        # Randomly swap two elements in the individual\n",
        "        if random.random() < self.mutation_rate:\n",
        "            idx1, idx2 = random.sample(range(len(individual)), 2)\n",
        "            individual[idx1], individual[idx2] = individual[idx2], individual[idx1]\n",
        "\n",
        "    def run(self):\n",
        "        population = self.initialize_population()\n",
        "        for generation in range(self.generations):\n",
        "            new_population = []\n",
        "            for _ in range(self.population_size // 2):\n",
        "                parent1, parent2 = self.selection(population)\n",
        "                child1, child2 = self.crossover(parent1, parent2)\n",
        "                self.mutate(child1)\n",
        "                self.mutate(child2)\n",
        "                new_population.extend([child1, child2])\n",
        "            population = new_population\n",
        "            best_individual = max(population, key=self.fitness)\n",
        "            print(f'Generation {generation}: Best fitness = {self.fitness(best_individual)}')\n",
        "        return best_individual\n",
        "\n",
        "# Example usage\n",
        "ga = GeneticAlgorithm(population_size=50, mutation_rate=0.01, generations=10)\n",
        "best_route = ga.run()\n",
        "print(f'Optimized Route: {best_route}')\n"
      ],
      "metadata": {
        "colab": {
          "base_uri": "https://localhost:8080/"
        },
        "id": "UppBkVR_g5p6",
        "outputId": "291926ca-771b-4f33-ea94-249c2ad9ec3c"
      },
      "execution_count": 31,
      "outputs": [
        {
          "output_type": "stream",
          "name": "stdout",
          "text": [
            "Generation 0: Best fitness = 9.948588777261633e-07\n",
            "Generation 1: Best fitness = 9.98712918713137e-07\n",
            "Generation 2: Best fitness = 1.0007882408342471e-06\n",
            "Generation 3: Best fitness = 1.0122293911006983e-06\n",
            "Generation 4: Best fitness = 9.984233497514736e-07\n",
            "Generation 5: Best fitness = 9.976779643985408e-07\n",
            "Generation 6: Best fitness = 1.0136378690728975e-06\n",
            "Generation 7: Best fitness = 1.02602243237989e-06\n",
            "Generation 8: Best fitness = 1.0033794522316785e-06\n",
            "Generation 9: Best fitness = 1.0080116971290155e-06\n",
            "Optimized Route: [240, 317, 751, 866, 453, 325, 808, 196, 519, 12, 171, 550, 804, 95, 298, 592, 52, 518, 241, 112, 249, 598, 998, 15, 734, 150, 923, 589, 51, 357, 43, 981, 835, 899, 969, 908, 223, 163, 392, 405, 175, 695, 796, 892, 495, 452, 265, 768, 78, 158, 635, 659, 109, 802, 658, 962, 174, 525, 377, 415, 836, 204, 932, 586, 188, 73, 564, 212, 521, 720, 341, 745, 468, 29, 20, 473, 561, 338, 557, 988, 474, 538, 460, 813, 597, 334, 648, 526, 611, 425, 123, 556, 523, 877, 773, 40, 331, 282, 551, 311, 183, 701, 901, 545, 936, 275, 290, 663, 278, 231, 288, 141, 746, 641, 78, 608, 382, 693, 919, 543, 744, 0, 383, 741, 135, 576, 373, 742, 173, 315, 797, 82, 217, 219, 222, 334, 710, 717, 442, 982, 880, 158, 805, 402, 125, 837, 246, 467, 614, 281, 178, 382, 997, 433, 882, 504, 1, 38, 390, 206, 279, 755, 200, 472, 376, 8, 725, 630, 593, 489, 824, 198, 455, 193, 492, 501, 261, 124, 357, 111, 325, 139, 812, 172, 354, 278, 786, 544, 415, 262, 452, 205, 304, 742, 814, 182, 287, 346, 138, 513, 917, 860, 438, 468, 201, 259, 314, 644, 693, 662, 903, 491, 727, 388, 215, 573, 974, 23, 784, 791, 834, 764, 286, 463, 952, 509, 480, 813, 317, 351, 47, 616, 165, 68, 373, 922, 396, 123, 408, 704, 378, 898, 385, 879, 835, 285, 876, 440, 586, 873, 821, 703, 934, 802, 628, 162, 416, 59, 318, 335, 528, 747, 84, 425, 209, 233, 911, 363, 522, 422, 457, 600, 888, 515, 953, 275, 500, 322, 946, 112, 456, 830, 469, 190, 27, 313, 739, 441, 954, 460, 919, 773, 679, 76, 307, 989, 650, 619, 543, 326, 157, 968, 810, 449, 354, 205, 752, 249, 943, 137, 901, 188, 781, 115, 819, 812, 275, 669, 764, 502, 417, 37, 716, 407, 338, 663, 487, 535, 220, 814, 944, 473, 122, 527, 156, 588, 874, 786, 223, 53, 796, 258, 307, 585, 738, 544, 686, 393, 402, 711, 309, 812, 438, 258, 117, 728, 269, 941, 467, 907, 513, 292, 168, 708, 414, 514, 973, 874, 404, 664, 17, 640, 979, 237, 465, 584, 977, 166, 83, 74, 537, 804, 337, 772, 593, 873, 56, 471, 27, 683, 338, 362, 429, 597, 856, 815, 660, 809, 720, 339, 47, 204, 877, 590, 701, 305, 255, 563, 241, 449, 80, 721, 928, 85, 960, 820, 829, 641, 719, 634, 253, 571, 893, 616, 205, 870, 434, 707, 187, 188, 936, 722, 942, 272, 926, 844, 947, 56, 848, 616, 344, 769, 82, 576, 301, 183, 172, 184, 643, 326, 629, 701, 578, 48, 27, 654, 296, 55, 286, 886, 462, 579, 418, 793, 162, 279, 411, 647, 845, 302, 640, 553, 953, 465, 341, 507, 91, 929, 260, 994, 668, 171, 0, 420, 664, 833, 978, 288, 930, 758, 11, 283, 608, 292, 609, 866, 934, 325, 98, 980, 798, 526, 87, 475, 607, 169, 139, 17, 208, 567, 324, 706, 333, 143, 628, 687, 216, 115, 225, 123, 289, 888, 712, 566, 967, 164, 288, 927, 283, 538, 634, 237, 191, 966, 785, 180, 194, 156, 825, 19, 200, 551, 753, 3, 533, 857, 399, 697, 461, 732, 395, 970, 637, 985, 231, 75, 80, 621, 624, 913, 889, 197, 987, 668, 615, 542, 971, 398, 723, 127, 942, 998, 671, 128, 632, 645, 115, 590, 610, 342, 550, 738, 567, 941, 175, 569, 654, 177, 39, 794, 498, 641, 53, 462, 667, 866, 596, 230, 448, 143, 891, 770, 450, 404, 120, 235, 429, 534, 992, 622, 736, 244, 765, 155, 771, 459, 780, 815, 207, 272, 635, 449, 907, 899, 740, 411, 426, 196, 159, 403, 687, 806, 405, 611, 98, 298, 699, 203, 904, 845, 321, 579, 421, 377, 978, 180, 142, 132, 239, 30, 56, 67, 12, 877, 204, 947, 828, 939, 642, 914, 113, 21, 243, 537, 756, 423, 613, 495, 428, 930, 250, 719, 685, 724, 352, 269, 241, 677, 643, 247, 525, 181, 548, 577, 901, 603, 670, 826, 523, 674, 986, 466, 305, 360, 435, 222, 134, 65, 648, 984, 924, 368, 400, 270, 975, 401, 862, 474, 640, 52, 551, 566, 944, 836, 283, 935, 682, 218, 597, 16, 188, 173, 156, 769, 24, 931, 822, 945, 709, 93, 552, 851, 365, 676, 434, 957, 11, 533, 29, 260, 547, 892, 355, 969, 430, 921, 949, 535, 781, 454, 481, 841, 103, 205, 293, 960, 284, 72, 642, 322, 87, 541, 442, 967, 282, 515, 630, 418, 770, 748, 592, 462, 998, 547, 305, 804, 653, 599, 778, 979, 406, 551, 245, 365, 429, 53, 355, 751, 764, 734, 172, 836, 8, 60, 889, 297, 921, 776, 409, 893, 888, 379, 605, 100, 760, 528, 793, 314, 588, 867, 154, 555, 138, 425, 450, 821, 19, 61, 401, 788, 102, 3, 686, 919, 842, 774, 167, 340, 593, 475, 78, 832, 50, 816, 73, 502, 657, 123, 217, 108, 280, 46, 596, 21, 823, 558, 491, 991, 95, 65, 438, 780, 612, 689, 516, 509, 303, 652, 508, 118, 899, 53, 404, 126, 428, 885, 228, 6, 232, 964, 846, 322, 891, 931, 906, 593, 365, 74, 70, 149, 280, 734, 729, 236, 776, 643, 972, 867, 647, 795, 307, 518, 888, 630, 713, 433, 825, 408, 978, 667, 335, 943, 350, 154, 678, 684, 954, 293, 267, 828, 231, 323, 738, 162, 847, 170, 383, 464, 342, 309, 925, 191, 597, 184, 481, 797, 145, 907, 387, 92, 535, 816, 844, 99, 616, 653, 424, 829, 953, 940, 956, 46, 674, 924, 304, 427, 215, 757, 586, 290, 543, 682, 799, 279, 226, 493, 935, 619, 708, 709, 998, 331, 827, 274, 391, 649, 784, 923, 429, 294, 312, 336, 598, 536, 669, 184, 501, 187, 527, 45, 909, 316, 486, 761, 231, 624, 965, 3, 585, 416, 901, 37, 124, 483, 314, 689, 358, 681, 691, 557]\n"
          ]
        }
      ]
    },
    {
      "cell_type": "code",
      "source": [
        "from sklearn.ensemble import RandomForestRegressor\n",
        "from sklearn.model_selection import train_test_split\n",
        "from sklearn.metrics import mean_absolute_error\n",
        "import pandas as pd\n",
        "\n",
        "# Load dataset\n",
        "df = pd.read_csv('/content/generated_inventory_dataset.csv')\n",
        "\n",
        "# One-hot encode categorical features\n",
        "X = pd.get_dummies(df[['Origin_Location', 'Destination_Location']])\n",
        "y = df['TRANSPORTATION_DISTANCE_IN_KM']\n",
        "\n",
        "# Split the data\n",
        "X_train, X_test, y_train, y_test = train_test_split(X, y, test_size=0.2, random_state=42)\n",
        "\n",
        "# Initialize and train the model\n",
        "model = RandomForestRegressor(n_estimators=100, random_state=42)\n",
        "model.fit(X_train, y_train)\n",
        "\n",
        "# Make predictions\n",
        "predictions = model.predict(X_test)\n",
        "\n",
        "# Evaluate the model\n",
        "mae = mean_absolute_error(y_test, predictions)\n",
        "print(f'Mean Absolute Error: {mae}')\n"
      ],
      "metadata": {
        "colab": {
          "base_uri": "https://localhost:8080/"
        },
        "id": "cPr3ImcYhJhV",
        "outputId": "78d56bbc-7f18-4562-ea37-c9caa269c388"
      },
      "execution_count": 34,
      "outputs": [
        {
          "output_type": "stream",
          "name": "stdout",
          "text": [
            "Mean Absolute Error: 483.41889900000007\n"
          ]
        }
      ]
    },
    {
      "cell_type": "code",
      "source": [],
      "metadata": {
        "id": "Tp4CnNoVhpRn"
      },
      "execution_count": null,
      "outputs": []
    }
  ],
  "metadata": {
    "colab": {
      "provenance": []
    },
    "kernelspec": {
      "display_name": "Python 3",
      "name": "python3"
    },
    "language_info": {
      "name": "python"
    }
  },
  "nbformat": 4,
  "nbformat_minor": 0
}