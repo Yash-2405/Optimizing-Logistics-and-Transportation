{
  "nbformat": 4,
  "nbformat_minor": 0,
  "metadata": {
    "colab": {
      "provenance": []
    },
    "kernelspec": {
      "name": "python3",
      "display_name": "Python 3"
    },
    "language_info": {
      "name": "python"
    }
  },
  "cells": [
    {
      "cell_type": "code",
      "execution_count": 1,
      "metadata": {
        "colab": {
          "base_uri": "https://localhost:8080/"
        },
        "id": "yZYNEcUY218J",
        "outputId": "76cbc6dd-882b-4504-a270-03a519a276d9"
      },
      "outputs": [
        {
          "output_type": "stream",
          "name": "stdout",
          "text": [
            "Requirement already satisfied: pandas in /usr/local/lib/python3.10/dist-packages (2.0.3)\n",
            "Requirement already satisfied: scikit-learn in /usr/local/lib/python3.10/dist-packages (1.2.2)\n",
            "Requirement already satisfied: geopy in /usr/local/lib/python3.10/dist-packages (2.3.0)\n",
            "Requirement already satisfied: python-dateutil>=2.8.2 in /usr/local/lib/python3.10/dist-packages (from pandas) (2.8.2)\n",
            "Requirement already satisfied: pytz>=2020.1 in /usr/local/lib/python3.10/dist-packages (from pandas) (2023.4)\n",
            "Requirement already satisfied: tzdata>=2022.1 in /usr/local/lib/python3.10/dist-packages (from pandas) (2024.1)\n",
            "Requirement already satisfied: numpy>=1.21.0 in /usr/local/lib/python3.10/dist-packages (from pandas) (1.25.2)\n",
            "Requirement already satisfied: scipy>=1.3.2 in /usr/local/lib/python3.10/dist-packages (from scikit-learn) (1.11.4)\n",
            "Requirement already satisfied: joblib>=1.1.1 in /usr/local/lib/python3.10/dist-packages (from scikit-learn) (1.4.2)\n",
            "Requirement already satisfied: threadpoolctl>=2.0.0 in /usr/local/lib/python3.10/dist-packages (from scikit-learn) (3.5.0)\n",
            "Requirement already satisfied: geographiclib<3,>=1.52 in /usr/local/lib/python3.10/dist-packages (from geopy) (2.0)\n",
            "Requirement already satisfied: six>=1.5 in /usr/local/lib/python3.10/dist-packages (from python-dateutil>=2.8.2->pandas) (1.16.0)\n"
          ]
        }
      ],
      "source": [
        "pip install pandas scikit-learn geopy"
      ]
    },
    {
      "cell_type": "code",
      "source": [
        "import pandas as pd\n",
        "import numpy as np\n",
        "from geopy.distance import geodesic\n",
        "from sklearn.ensemble import RandomForestRegressor\n",
        "\n",
        "# Simulated Data\n",
        "\n",
        "# Truck locations (latitude and longitude)\n",
        "truck_locations = pd.DataFrame({\n",
        "    'truck_id': [1, 2, 3],\n",
        "    'lat': [28.6139,17.3850,28.4595],\n",
        "    'lon': [77.2090,78.4867,77.0266]\n",
        "})\n",
        "\n",
        "# Destination points (latitude and longitude)\n",
        "destinations = pd.DataFrame({\n",
        "    'destination_id': [1, 2, 3],\n",
        "    'lat': [12.9716,13.0827,23.0225],\n",
        "    'lon': [77.5946,80.2707,72.5714]\n",
        "})\n",
        "\n",
        "# Simulated historical traffic and weather data\n",
        "historical_data = pd.DataFrame({\n",
        "    'traffic_density': [30, 45, 50, 20, 40],\n",
        "    'weather_condition': [1, 2, 3, 1, 2],  # 1: Clear, 2: Rainy, 3: Stormy\n",
        "    'delivery_time': [40, 60, 70, 30, 50]\n",
        "})\n",
        "\n",
        "# Calculate the Euclidean distance between two coordinates\n",
        "def calculate_distance(coord1, coord2):\n",
        "    return geodesic(coord1, coord2).kilometers\n",
        "\n",
        "# Genetic Algorithm for Route Optimization (simplified)\n",
        "def genetic_algorithm(truck_locations, destinations):\n",
        "    best_route = None\n",
        "    best_distance = float('inf')\n",
        "    for truck in truck_locations.iterrows():\n",
        "        for destination in destinations.iterrows():\n",
        "            distance = calculate_distance((truck[1]['lat'], truck[1]['lon']), (destination[1]['lat'], destination[1]['lon']))\n",
        "            if distance < best_distance:\n",
        "                best_distance = distance\n",
        "                best_route = (truck[1]['truck_id'], destination[1]['destination_id'])\n",
        "    return best_route, best_distance\n",
        "\n",
        "# Predictive Traffic and Weather Analysis using Random Forest\n",
        "def predictive_analysis(historical_data):\n",
        "    X = historical_data[['traffic_density', 'weather_condition']]\n",
        "    y = historical_data['delivery_time']\n",
        "    rf = RandomForestRegressor()\n",
        "    rf.fit(X, y)\n",
        "    return rf\n",
        "\n",
        "# Main function to integrate all parts\n",
        "def main():\n",
        "    best_route, best_distance = genetic_algorithm(truck_locations, destinations)\n",
        "    print(f\"Best Route: Truck {best_route[0]} to Destination {best_route[1]} with Distance {best_distance:.2f} km\")\n",
        "\n",
        "    # Predictive Analysis\n",
        "    rf = predictive_analysis(historical_data)\n",
        "    simulated_conditions = [[35, 1]]  # Example: Traffic density 35, Weather condition Clear\n",
        "    predicted_delivery_time = rf.predict(simulated_conditions)\n",
        "    print(f\"Predicted Delivery Time: {predicted_delivery_time[0]:.2f} minutes\")\n",
        "\n",
        "if __name__ == \"__main__\":\n",
        "    main()\n"
      ],
      "metadata": {
        "colab": {
          "base_uri": "https://localhost:8080/"
        },
        "id": "pi3MiuDk23u-",
        "outputId": "d6f7ac45-cb41-46f6-ffad-146fac07e4b8"
      },
      "execution_count": 4,
      "outputs": [
        {
          "output_type": "stream",
          "name": "stdout",
          "text": [
            "Best Route: Truck 2.0 to Destination 1.0 with Distance 497.66 km\n",
            "Predicted Delivery Time: 40.50 minutes\n"
          ]
        },
        {
          "output_type": "stream",
          "name": "stderr",
          "text": [
            "/usr/local/lib/python3.10/dist-packages/sklearn/base.py:439: UserWarning: X does not have valid feature names, but RandomForestRegressor was fitted with feature names\n",
            "  warnings.warn(\n"
          ]
        }
      ]
    },
    {
      "cell_type": "code",
      "source": [
        "import pandas as pd\n",
        "import numpy as np\n",
        "from geopy.distance import geodesic\n",
        "from sklearn.ensemble import RandomForestRegressor\n",
        "\n",
        "# Simulated Data\n",
        "\n",
        "# Truck locations (latitude and longitude)\n",
        "truck_locations = pd.DataFrame({\n",
        "    'truck_id': [1, 2, 3],\n",
        "    'lat': [12.9715987, 12.2958104, 13.0826802],\n",
        "    'lon': [77.5945627, 76.6393805, 80.2707184]\n",
        "})\n",
        "\n",
        "# Destination points (latitude and longitude)\n",
        "destinations = pd.DataFrame({\n",
        "    'destination_id': [1, 2, 3, 4, 5],\n",
        "    'lat': [28.6139, 12.9716, 17.3850, 28.4595, 13.0827],\n",
        "    'lon': [77.2090, 77.5946, 78.4867, 77.0266, 80.2707],\n",
        "    'city': ['Delhi', 'Bangalore', 'Hyderabad', 'Gurgaon', 'Chennai']\n",
        "})\n",
        "\n",
        "# Inventory data\n",
        "inventory = pd.DataFrame({\n",
        "    'item_id': [101, 102, 103],\n",
        "    'item_name': ['Item A', 'Item B', 'Item C'],\n",
        "    'quantity': [50, 30, 20],\n",
        "    'storage_location': ['Warehouse 1', 'Warehouse 2', 'Warehouse 3']\n",
        "})\n",
        "\n",
        "# Simulated historical traffic and weather data\n",
        "historical_data = pd.DataFrame({\n",
        "    'traffic_density': [30, 45, 50, 20, 40],\n",
        "    'weather_condition': [1, 2, 3, 1, 2],  # 1: Clear, 2: Rainy, 3: Stormy\n",
        "    'delivery_time': [40, 60, 70, 30, 50]\n",
        "})\n",
        "\n",
        "# Calculate the Euclidean distance between two coordinates\n",
        "def calculate_distance(coord1, coord2):\n",
        "    return geodesic(coord1, coord2).kilometers\n",
        "\n",
        "# Genetic Algorithm for Route Optimization (simplified)\n",
        "def genetic_algorithm(truck_locations, destinations):\n",
        "    best_route = None\n",
        "    best_distance = float('inf')\n",
        "    for truck in truck_locations.iterrows():\n",
        "        for destination in destinations.iterrows():\n",
        "            distance = calculate_distance((truck[1]['lat'], truck[1]['lon']), (destination[1]['lat'], destination[1]['lon']))\n",
        "            if distance < best_distance:\n",
        "                best_distance = distance\n",
        "                best_route = (truck[1]['truck_id'], destination[1]['destination_id'])\n",
        "    return best_route, best_distance\n",
        "\n",
        "# Predictive Traffic and Weather Analysis using Random Forest\n",
        "def predictive_analysis(historical_data):\n",
        "    X = historical_data[['traffic_density', 'weather_condition']]\n",
        "    y = historical_data['delivery_time']\n",
        "    rf = RandomForestRegressor()\n",
        "    rf.fit(X, y)\n",
        "    return rf\n",
        "\n",
        "# Demand Forecasting using Random Forest\n",
        "def demand_forecasting(inventory):\n",
        "    # Simulated sales data for demand forecasting\n",
        "    sales_data = pd.DataFrame({\n",
        "        'item_id': [101, 102, 103, 101, 102, 103],\n",
        "        'month': [1, 1, 1, 2, 2, 2],\n",
        "        'sales': [30, 20, 10, 40, 25, 15]\n",
        "    })\n",
        "    X = sales_data[['item_id', 'month']]\n",
        "    y = sales_data['sales']\n",
        "    rf = RandomForestRegressor()\n",
        "    rf.fit(X, y)\n",
        "    return rf\n",
        "\n",
        "# Main function to integrate all parts\n",
        "def main():\n",
        "    best_route, best_distance = genetic_algorithm(truck_locations, destinations)\n",
        "    print(f\"Best Route: Truck {best_route[0]} to Destination {best_route[1]} with Distance {best_distance:.2f} km\")\n",
        "\n",
        "    # Predictive Analysis\n",
        "    rf = predictive_analysis(historical_data)\n",
        "    simulated_conditions = [[35, 1]]  # Example: Traffic density 35, Weather condition Clear\n",
        "    predicted_delivery_time = rf.predict(simulated_conditions)\n",
        "    print(f\"Predicted Delivery Time: {predicted_delivery_time[0]:.2f} minutes\")\n",
        "\n",
        "    # Demand Forecasting\n",
        "    demand_rf = demand_forecasting(inventory)\n",
        "    future_demand = demand_rf.predict([[101, 3]])  # Example: Predict demand for Item 101 in month 3\n",
        "    print(f\"Predicted Future Demand for Item 101 in Month 3: {future_demand[0]} units\")\n",
        "\n",
        "if __name__ == \"__main__\":\n",
        "    main()\n"
      ],
      "metadata": {
        "colab": {
          "base_uri": "https://localhost:8080/"
        },
        "id": "HWjg-QIu2_EC",
        "outputId": "cd3c1526-b0a2-4a1d-92a6-313a39b490d7"
      },
      "execution_count": 5,
      "outputs": [
        {
          "output_type": "stream",
          "name": "stdout",
          "text": [
            "Best Route: Truck 3.0 to Destination 5 with Distance 0.00 km\n"
          ]
        },
        {
          "output_type": "stream",
          "name": "stderr",
          "text": [
            "/usr/local/lib/python3.10/dist-packages/sklearn/base.py:439: UserWarning: X does not have valid feature names, but RandomForestRegressor was fitted with feature names\n",
            "  warnings.warn(\n"
          ]
        },
        {
          "output_type": "stream",
          "name": "stdout",
          "text": [
            "Predicted Delivery Time: 41.60 minutes\n",
            "Predicted Future Demand for Item 101 in Month 3: 36.2 units\n"
          ]
        },
        {
          "output_type": "stream",
          "name": "stderr",
          "text": [
            "/usr/local/lib/python3.10/dist-packages/sklearn/base.py:439: UserWarning: X does not have valid feature names, but RandomForestRegressor was fitted with feature names\n",
            "  warnings.warn(\n"
          ]
        }
      ]
    },
    {
      "cell_type": "code",
      "source": [
        "import pandas as pd\n",
        "import numpy as np\n",
        "from geopy.distance import geodesic\n",
        "from sklearn.ensemble import RandomForestRegressor\n",
        "\n",
        "# Simulated Data\n",
        "\n",
        "# Truck locations (latitude and longitude)\n",
        "truck_locations = pd.DataFrame({\n",
        "    'truck_id': [1, 2, 3],\n",
        "    'lat': [12.9715987, 12.2958104, 13.0826802],\n",
        "    'lon': [77.5945627, 76.6393805, 80.2707184]\n",
        "})\n",
        "\n",
        "# Destination points (latitude and longitude)\n",
        "destinations = pd.DataFrame({\n",
        "    'destination_id': [1, 2, 3, 4, 5],\n",
        "    'lat': [28.6139, 12.9716, 17.3850, 28.4595, 13.0827],\n",
        "    'lon': [77.2090, 77.5946, 78.4867, 77.0266, 80.2707],\n",
        "    'city': ['Delhi', 'Bangalore', 'Hyderabad', 'Gurgaon', 'Chennai']\n",
        "})\n",
        "\n",
        "# Inventory data\n",
        "inventory = pd.DataFrame({\n",
        "    'item_id': [101, 102, 103],\n",
        "    'item_name': ['Item A', 'Item B', 'Item C'],\n",
        "    'quantity': [50, 30, 20],\n",
        "    'storage_location': ['Warehouse 1', 'Warehouse 2', 'Warehouse 3']\n",
        "})\n",
        "\n",
        "# Employee data\n",
        "employees = pd.DataFrame({\n",
        "    'employee_id': [1, 2, 3],\n",
        "    'name': ['Alice', 'Bob', 'Charlie'],\n",
        "    'skills': ['driving', 'loading', 'driving'],\n",
        "    'availability': [8, 5, 6]  # Available hours per day\n",
        "})\n",
        "\n",
        "# Task data\n",
        "tasks = pd.DataFrame({\n",
        "    'task_id': [201, 202, 203],\n",
        "    'description': ['Deliver goods', 'Load goods', 'Deliver goods'],\n",
        "    'required_skills': ['driving', 'loading', 'driving'],\n",
        "    'estimated_time': [4, 3, 5]  # Estimated hours to complete the task\n",
        "})\n",
        "\n",
        "# Simulated historical traffic and weather data\n",
        "historical_data = pd.DataFrame({\n",
        "    'traffic_density': [30, 45, 50, 20, 40],\n",
        "    'weather_condition': [1, 2, 3, 1, 2],  # 1: Clear, 2: Rainy, 3: Stormy\n",
        "    'delivery_time': [40, 60, 70, 30, 50]\n",
        "})\n",
        "\n",
        "# Calculate the Euclidean distance between two coordinates\n",
        "def calculate_distance(coord1, coord2):\n",
        "    return geodesic(coord1, coord2).kilometers\n",
        "\n",
        "# Genetic Algorithm for Route Optimization (simplified)\n",
        "def genetic_algorithm(truck_locations, destinations):\n",
        "    best_route = None\n",
        "    best_distance = float('inf')\n",
        "    for truck in truck_locations.iterrows():\n",
        "        for destination in destinations.iterrows():\n",
        "            distance = calculate_distance((truck[1]['lat'], truck[1]['lon']), (destination[1]['lat'], destination[1]['lon']))\n",
        "            if distance < best_distance:\n",
        "                best_distance = distance\n",
        "                best_route = (truck[1]['truck_id'], destination[1]['destination_id'])\n",
        "    return best_route, best_distance\n",
        "\n",
        "# Predictive Traffic and Weather Analysis using Random Forest\n",
        "def predictive_analysis(historical_data):\n",
        "    X = historical_data[['traffic_density', 'weather_condition']]\n",
        "    y = historical_data['delivery_time']\n",
        "    rf = RandomForestRegressor()\n",
        "    rf.fit(X, y)\n",
        "    return rf\n",
        "\n",
        "# Demand Forecasting using Random Forest\n",
        "def demand_forecasting(inventory):\n",
        "    # Simulated sales data for demand forecasting\n",
        "    sales_data = pd.DataFrame({\n",
        "        'item_id': [101, 102, 103, 101, 102, 103],\n",
        "        'month': [1, 1, 1, 2, 2, 2],\n",
        "        'sales': [30, 20, 10, 40, 25, 15]\n",
        "    })\n",
        "    X = sales_data[['item_id', 'month']]\n",
        "    y = sales_data['sales']\n",
        "    rf = RandomForestRegressor()\n",
        "    rf.fit(X, y)\n",
        "    return rf\n",
        "\n",
        "# Manpower Management: Allocate tasks to employees based on skills and availability\n",
        "def allocate_tasks(employees, tasks):\n",
        "    allocation = []\n",
        "    for task in tasks.iterrows():\n",
        "        for employee in employees.iterrows():\n",
        "            if task[1]['required_skills'] == employee[1]['skills'] and employee[1]['availability'] >= task[1]['estimated_time']:\n",
        "                allocation.append({\n",
        "                    'task_id': task[1]['task_id'],\n",
        "                    'employee_id': employee[1]['employee_id'],\n",
        "                    'employee_name': employee[1]['name']\n",
        "                })\n",
        "                # Update employee availability\n",
        "                employees.loc[employee[0], 'availability'] -= task[1]['estimated_time']\n",
        "                break\n",
        "    return allocation\n",
        "\n",
        "# Main function to integrate all parts\n",
        "def main():\n",
        "    best_route, best_distance = genetic_algorithm(truck_locations, destinations)\n",
        "    print(f\"Best Route: Truck {best_route[0]} to Destination {best_route[1]} with Distance {best_distance:.2f} km\")\n",
        "\n",
        "    # Predictive Analysis\n",
        "    rf = predictive_analysis(historical_data)\n",
        "    simulated_conditions = [[35, 1]]  # Example: Traffic density 35, Weather condition Clear\n",
        "    predicted_delivery_time = rf.predict(simulated_conditions)\n",
        "    print(f\"Predicted Delivery Time: {predicted_delivery_time[0]:.2f} minutes\")\n",
        "\n",
        "    # Demand Forecasting\n",
        "    demand_rf = demand_forecasting(inventory)\n",
        "    future_demand = demand_rf.predict([[101, 3]])  # Example: Predict demand for Item 101 in month 3\n",
        "    print(f\"Predicted Future Demand for Item 101 in Month 3: {future_demand[0]} units\")\n",
        "\n",
        "    # Manpower Management\n",
        "    task_allocation = allocate_tasks(employees, tasks)\n",
        "    for allocation in task_allocation:\n",
        "        print(f\"Task {allocation['task_id']} assigned to Employee {allocation['employee_id']} ({allocation['employee_name']})\")\n",
        "\n",
        "if __name__ == \"__main__\":\n",
        "    main()\n"
      ],
      "metadata": {
        "colab": {
          "base_uri": "https://localhost:8080/"
        },
        "id": "vAZRFrVP6C71",
        "outputId": "795a2d1d-2e2b-422f-b891-1d2792d5449d"
      },
      "execution_count": 6,
      "outputs": [
        {
          "output_type": "stream",
          "name": "stdout",
          "text": [
            "Best Route: Truck 3.0 to Destination 5 with Distance 0.00 km\n"
          ]
        },
        {
          "output_type": "stream",
          "name": "stderr",
          "text": [
            "/usr/local/lib/python3.10/dist-packages/sklearn/base.py:439: UserWarning: X does not have valid feature names, but RandomForestRegressor was fitted with feature names\n",
            "  warnings.warn(\n"
          ]
        },
        {
          "output_type": "stream",
          "name": "stdout",
          "text": [
            "Predicted Delivery Time: 41.40 minutes\n",
            "Predicted Future Demand for Item 101 in Month 3: 36.45 units\n",
            "Task 201 assigned to Employee 1 (Alice)\n",
            "Task 202 assigned to Employee 2 (Bob)\n",
            "Task 203 assigned to Employee 3 (Charlie)\n"
          ]
        },
        {
          "output_type": "stream",
          "name": "stderr",
          "text": [
            "/usr/local/lib/python3.10/dist-packages/sklearn/base.py:439: UserWarning: X does not have valid feature names, but RandomForestRegressor was fitted with feature names\n",
            "  warnings.warn(\n"
          ]
        }
      ]
    },
    {
      "cell_type": "code",
      "source": [],
      "metadata": {
        "id": "8_rcCV0z64Eo"
      },
      "execution_count": null,
      "outputs": []
    }
  ]
}